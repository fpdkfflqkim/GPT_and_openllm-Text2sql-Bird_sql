{
 "cells": [
  {
   "cell_type": "code",
   "execution_count": null,
   "metadata": {},
   "outputs": [],
   "source": [
    "# !pip install openai"
   ]
  },
  {
   "cell_type": "code",
   "execution_count": null,
   "metadata": {},
   "outputs": [],
   "source": [
    "import openai\n",
    "from openai import OpenAI\n",
    "import json\n",
    "import pandas as pd"
   ]
  },
  {
   "cell_type": "code",
   "execution_count": null,
   "metadata": {},
   "outputs": [],
   "source": [
    "class myconfig():\n",
    "    \n",
    "    # ver2\n",
    "    jsonl_ver2_case1_data= \"../data/mini_dataset_case_1.jsonl\"\n",
    "    jsonl_ver2_case2_data= \"../data/mini_dataset_case_2.jsonl\"\n",
    "    \n",
    "    base_result_ver2_case1_data= \"../results/base_ver2_case1.pkl\"\n",
    "    base_result_ver2_case2_data= \"../results/base_ver2_case2.pkl\"\n",
    "    \n",
    "    ft_result_ver2_case1_data= \"../results/ft_ver2_case1.pkl\"    \n",
    "    ft_result_ver2_case2_data= \"../results/ft_ver2_case2.pkl\"\n",
    "    \n",
    "\n",
    "mcfg = myconfig()"
   ]
  },
  {
   "cell_type": "code",
   "execution_count": null,
   "metadata": {},
   "outputs": [],
   "source": [
    "# case1 data\n",
    "case1_data_ver2 = []\n",
    "with open(mcfg.jsonl_ver2_case1_data, \"r\") as f:\n",
    "    for line in f:\n",
    "        case1_data_ver2.append( json.loads(line) )\n",
    "\n",
    "print(len(case1_data_ver2))"
   ]
  },
  {
   "cell_type": "code",
   "execution_count": null,
   "metadata": {},
   "outputs": [],
   "source": [
    "# case2\n",
    "case2_data_ver2 = []\n",
    "with open(mcfg.jsonl_ver2_case2_data, \"r\") as f:\n",
    "    for line in f:\n",
    "        case2_data_ver2.append( json.loads(line) )\n",
    "        \n",
    "print(len(case2_data_ver2))"
   ]
  },
  {
   "cell_type": "code",
   "execution_count": null,
   "metadata": {},
   "outputs": [],
   "source": [
    "# from openai import OpenAI\n",
    "client = OpenAI(api_key = \"\")"
   ]
  },
  {
   "cell_type": "markdown",
   "metadata": {},
   "source": [
    "# 기본 모델 case1 추론"
   ]
  },
  {
   "cell_type": "code",
   "execution_count": null,
   "metadata": {},
   "outputs": [],
   "source": [
    "answers_base_case1_ver2 = []\n",
    "\n",
    "for i in range(len(case1_data_ver2)):\n",
    "    completion = client.chat.completions.create(\n",
    "        model=\"gpt-4o\",\n",
    "        messages= case1_data_ver2[i][\"messages\"]\n",
    "        )\n",
    "    answer = completion.choices[0].message.content\n",
    "    # print(answer)\n",
    "    answers_base_case1_ver2.append(answer)\n",
    "    \n",
    "import pandas as pd\n",
    "pd.DataFrame(answers_base_case1_ver2, columns=[\"result\"]).to_pickle(mcfg.base_result_ver2_case1_data)"
   ]
  },
  {
   "cell_type": "markdown",
   "metadata": {},
   "source": [
    "# 기본 모델 case2 추론"
   ]
  },
  {
   "cell_type": "code",
   "execution_count": null,
   "metadata": {},
   "outputs": [],
   "source": [
    "answers_base_case2_ver2 = []\n",
    "\n",
    "for i in range(len(case2_data_ver2)):\n",
    "    completion = client.chat.completions.create(\n",
    "        model=\"gpt-4o\",\n",
    "        messages= case2_data_ver2[i][\"messages\"]\n",
    "        )\n",
    "    answer = completion.choices[0].message.content\n",
    "    # print(answer)\n",
    "    answers_base_case2_ver2.append(answer)\n",
    "    \n",
    "import pandas as pd\n",
    "pd.DataFrame(answers_base_case2_ver2, columns=[\"result\"]).to_pickle(mcfg.base_result_ver2_case2_data)"
   ]
  },
  {
   "cell_type": "markdown",
   "metadata": {},
   "source": [
    "# fine-tuned model case1 추론"
   ]
  },
  {
   "cell_type": "code",
   "execution_count": null,
   "metadata": {},
   "outputs": [],
   "source": [
    "answers_ft_case1_ver2 = []\n",
    "\n",
    "for i in range(len(case1_data_ver2)):\n",
    "    completion = client.chat.completions.create(\n",
    "        model=\"ft:gpt-4o\",\n",
    "        messages= case1_data_ver2[i][\"messages\"]\n",
    "        )\n",
    "    answer = completion.choices[0].message.content\n",
    "    # print(answer)\n",
    "    answers_ft_case1_ver2.append(answer)\n",
    "    \n",
    "import pandas as pd\n",
    "pd.DataFrame(answers_ft_case1_ver2, columns=[\"result\"]).to_pickle(mcfg.ft_result_ver2_case1_data)"
   ]
  },
  {
   "cell_type": "markdown",
   "metadata": {},
   "source": [
    "# fine-tuned model case2 추론"
   ]
  },
  {
   "cell_type": "code",
   "execution_count": null,
   "metadata": {},
   "outputs": [],
   "source": [
    "answers_ft_case2_ver2 = []\n",
    "\n",
    "for i in range(len(case2_data_ver2)):\n",
    "    completion = client.chat.completions.create(\n",
    "        model=\"ft:gpt-4o\",\n",
    "        messages= case2_data_ver2[i][\"messages\"]\n",
    "        )\n",
    "    answer = completion.choices[0].message.content\n",
    "    # print(answer)\n",
    "    answers_ft_case2_ver2.append(answer)\n",
    "    \n",
    "import pandas as pd\n",
    "pd.DataFrame(answers_ft_case2_ver2, columns=[\"result\"]).to_pickle(mcfg.ft_result_ver2_case2_data)"
   ]
  }
 ],
 "metadata": {
  "kernelspec": {
   "display_name": "Python 3",
   "language": "python",
   "name": "python3"
  },
  "language_info": {
   "codemirror_mode": {
    "name": "ipython",
    "version": 3
   },
   "file_extension": ".py",
   "mimetype": "text/x-python",
   "name": "python",
   "nbconvert_exporter": "python",
   "pygments_lexer": "ipython3",
   "version": "3.10.6"
  }
 },
 "nbformat": 4,
 "nbformat_minor": 2
}
