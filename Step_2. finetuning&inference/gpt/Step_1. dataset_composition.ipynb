{
 "cells": [
  {
   "cell_type": "code",
   "execution_count": null,
   "metadata": {},
   "outputs": [],
   "source": [
    "class myconfig():\n",
    "    original_data = \"../data/mini_dev.pkl\"\n",
    "    \n",
    "    train_data= \"../data/minidev_train.pkl\"\n",
    "    test_data= \"../data/minidev_case1.pkl\"\n",
    "    unseen_data= \"../data/minidev_case2.pkl\"\n",
    "    \n",
    "    jsonl_data_train= \"../data/mini_dataset_train.jsonl\"\n",
    "    jsonl_data_test= \"../data/mini_dataset_case_1.jsonl\"\n",
    "    jsonl_data_unseen= \"../data/mini_dataset_case_2.jsonl\"\n",
    "mcfg = myconfig()"
   ]
  },
  {
   "cell_type": "markdown",
   "metadata": {},
   "source": [
    "# 데이터 확인"
   ]
  },
  {
   "cell_type": "code",
   "execution_count": null,
   "metadata": {},
   "outputs": [],
   "source": [
    "import pandas as pd\n",
    "import ast\n",
    "\n",
    "df = pd.read_pickle(mcfg.original_data)\n",
    "df"
   ]
  },
  {
   "cell_type": "code",
   "execution_count": null,
   "metadata": {},
   "outputs": [],
   "source": [
    "df[\"db_id\"].value_counts()"
   ]
  },
  {
   "cell_type": "markdown",
   "metadata": {},
   "source": [
    "# unseen / train / test 분할"
   ]
  },
  {
   "cell_type": "code",
   "execution_count": null,
   "metadata": {},
   "outputs": [],
   "source": [
    "df_unseen = df[(df[\"db_id\"] == \"financial\")]\n",
    "df_unseen[\"db_id\"].value_counts()"
   ]
  },
  {
   "cell_type": "code",
   "execution_count": null,
   "metadata": {},
   "outputs": [],
   "source": [
    "df_seen = df[~df.isin(df_unseen).all(axis=1)]\n",
    "df_seen[\"db_id\"].value_counts()"
   ]
  },
  {
   "cell_type": "code",
   "execution_count": null,
   "metadata": {},
   "outputs": [],
   "source": [
    "# train - test\n",
    "from sklearn.model_selection import train_test_split\n",
    "\n",
    "df_train = pd.DataFrame(columns=df_seen.columns)\n",
    "df_test = pd.DataFrame(columns=df_seen.columns)\n",
    "\n",
    "db_list = list(set(df_seen[\"db_id\"].values))\n",
    "\n",
    "for db in db_list:\n",
    "    sample_df = df_seen[df_seen[\"db_id\"] == db]\n",
    "    sample_df_train, sample_df_test = train_test_split(sample_df, test_size=0.1, stratify=sample_df[\"difficulty\"], random_state=42)\n",
    "\n",
    "    df_train = pd.concat([df_train,sample_df_train], axis=0, ignore_index=True)\n",
    "    df_test = pd.concat([df_test,sample_df_test], axis=0, ignore_index=True)"
   ]
  },
  {
   "cell_type": "code",
   "execution_count": null,
   "metadata": {},
   "outputs": [],
   "source": [
    "print(len(df_train))\n",
    "print(len(df_test))\n",
    "print(len(df_unseen))"
   ]
  },
  {
   "cell_type": "code",
   "execution_count": null,
   "metadata": {},
   "outputs": [],
   "source": [
    "df_train.to_pickle(mcfg.train_data)\n",
    "df_test.to_pickle(mcfg.test_data)\n",
    "df_unseen.to_pickle(mcfg.unseen_data)"
   ]
  },
  {
   "cell_type": "markdown",
   "metadata": {},
   "source": [
    "# df to json"
   ]
  },
  {
   "cell_type": "code",
   "execution_count": null,
   "metadata": {},
   "outputs": [],
   "source": [
    "import pandas as pd\n",
    "df_train = pd.read_pickle(mcfg.train_data)\n",
    "df_test = pd.read_pickle(mcfg.test_data)\n",
    "df_unseen = pd.read_pickle(mcfg.unseen_data)"
   ]
  },
  {
   "cell_type": "code",
   "execution_count": null,
   "metadata": {},
   "outputs": [],
   "source": [
    "df_train"
   ]
  },
  {
   "cell_type": "markdown",
   "metadata": {},
   "source": [
    "# train"
   ]
  },
  {
   "cell_type": "code",
   "execution_count": null,
   "metadata": {},
   "outputs": [],
   "source": [
    "import json\n",
    "with open(mcfg.jsonl_data_train, 'w', encoding='utf-8') as f:\n",
    "    for i, data in df_train.iterrows():\n",
    "        messages = {\"messages\":[{\"role\":\"system\", \"content\":data[\"instruction\"]},\n",
    "                                {\"role\":\"user\", \"content\":data[\"input\"]},\n",
    "                                {\"role\":\"assistant\", \"content\":data[\"output\"]}\n",
    "                                ]\n",
    "                    }\n",
    "        f.write(json.dumps(messages, ensure_ascii=False) + '\\n')"
   ]
  },
  {
   "cell_type": "code",
   "execution_count": null,
   "metadata": {},
   "outputs": [],
   "source": [
    "a = []\n",
    "with open(mcfg.jsonl_data_train, 'r', encoding='utf-8') as f:\n",
    "    for line in f:\n",
    "        a.append(line)"
   ]
  },
  {
   "cell_type": "code",
   "execution_count": null,
   "metadata": {},
   "outputs": [],
   "source": [
    "len(a)"
   ]
  },
  {
   "cell_type": "markdown",
   "metadata": {},
   "source": [
    "# test"
   ]
  },
  {
   "cell_type": "code",
   "execution_count": null,
   "metadata": {},
   "outputs": [],
   "source": [
    "import json\n",
    "with open(mcfg.jsonl_data_test, 'w', encoding='utf-8') as f:\n",
    "    for i, data in df_test.iterrows():\n",
    "        messages = {\"messages\":[{\"role\":\"system\", \"content\":data[\"instruction\"]},\n",
    "                                {\"role\":\"user\", \"content\":data[\"input\"]},\n",
    "                                ]\n",
    "                    }\n",
    "        f.write(json.dumps(messages, ensure_ascii=False) + '\\n')"
   ]
  },
  {
   "cell_type": "code",
   "execution_count": null,
   "metadata": {},
   "outputs": [],
   "source": [
    "a = []\n",
    "with open(mcfg.jsonl_data_test, 'r', encoding='utf-8') as f:\n",
    "    for line in f:\n",
    "        a.append(line)"
   ]
  },
  {
   "cell_type": "code",
   "execution_count": null,
   "metadata": {},
   "outputs": [],
   "source": [
    "len(a)"
   ]
  },
  {
   "cell_type": "markdown",
   "metadata": {},
   "source": [
    "# unseen"
   ]
  },
  {
   "cell_type": "code",
   "execution_count": null,
   "metadata": {},
   "outputs": [],
   "source": [
    "import json\n",
    "with open(mcfg.jsonl_data_unseen, 'w', encoding='utf-8') as f:\n",
    "    for i, data in df_unseen.iterrows():\n",
    "        messages = {\"messages\":[{\"role\":\"system\", \"content\":data[\"instruction\"]},\n",
    "                                {\"role\":\"user\", \"content\":data[\"input\"]},\n",
    "                                ]\n",
    "                    }\n",
    "        f.write(json.dumps(messages, ensure_ascii=False) + '\\n')"
   ]
  },
  {
   "cell_type": "code",
   "execution_count": null,
   "metadata": {},
   "outputs": [],
   "source": [
    "a = []\n",
    "with open(mcfg.jsonl_data_unseen, 'r', encoding='utf-8') as f:\n",
    "    for line in f:\n",
    "        a.append(line)"
   ]
  },
  {
   "cell_type": "code",
   "execution_count": null,
   "metadata": {},
   "outputs": [],
   "source": [
    "len(a)"
   ]
  }
 ],
 "metadata": {
  "kernelspec": {
   "display_name": "PY39_",
   "language": "python",
   "name": "python3"
  },
  "language_info": {
   "codemirror_mode": {
    "name": "ipython",
    "version": 3
   },
   "file_extension": ".py",
   "mimetype": "text/x-python",
   "name": "python",
   "nbconvert_exporter": "python",
   "pygments_lexer": "ipython3",
   "version": "3.9.16"
  }
 },
 "nbformat": 4,
 "nbformat_minor": 2
}
